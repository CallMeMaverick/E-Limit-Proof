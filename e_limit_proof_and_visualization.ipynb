{
 "cells": [
  {
   "cell_type": "code",
   "execution_count": 34,
   "id": "f0831940",
   "metadata": {
    "ExecuteTime": {
     "end_time": "2023-10-27T15:24:58.536596Z",
     "start_time": "2023-10-27T15:24:57.085042Z"
    }
   },
   "outputs": [],
   "source": [
    "from sympy import *\n",
    "from math import e\n",
    "import numpy as np\n",
    "import matplotlib.pyplot as plt"
   ]
  },
  {
   "cell_type": "code",
   "execution_count": 35,
   "id": "6274a8a5",
   "metadata": {
    "ExecuteTime": {
     "end_time": "2023-10-27T15:24:58.807970Z",
     "start_time": "2023-10-27T15:24:58.535760Z"
    }
   },
   "outputs": [
    {
     "name": "stdout",
     "output_type": "stream",
     "text": []
    },
    {
     "data": {
      "image/png": "[encoded data removed]",
      "text/latex": [
       "$\\displaystyle \\lim_{x \\to \\infty} \\left(1 + \\frac{1}{f{\\left(x \\right)}}\\right)^{f{\\left(x \\right)}} = e$"
      ],
      "text/plain": [
       "              f(x)    \n",
       "    ⎛     1  ⎞        \n",
       "lim ⎜1 + ────⎟     = e\n",
       "x─→∞⎝    f(x)⎠        "
      ]
     },
     "execution_count": 35,
     "metadata": {},
     "output_type": "execute_result"
    }
   ],
   "source": [
    "# define a symbol of Euler's number\n",
    "Eulers = Symbol('e') \n",
    "# initialize SymPy session (configures interaction with the user)\n",
    "init_session(quiet = True)\n",
    "\n",
    "# form an equation\n",
    "expression_infinity = Eq(Limit((1 + 1 / f(x))**f(x), x, oo), Eulers)\n",
    "expression_infinity"
   ]
  },
  {
   "cell_type": "code",
   "execution_count": 36,
   "id": "cc32c296",
   "metadata": {
    "ExecuteTime": {
     "end_time": "2023-10-27T15:25:00.333552Z",
     "start_time": "2023-10-27T15:25:00.294792Z"
    }
   },
   "outputs": [
    {
     "data": {
      "image/png": "[encoded data removed]",
      "text/latex": [
       "$\\displaystyle \\lim_{x \\to 0^+} \\left(g{\\left(x \\right)} + 1\\right)^{\\frac{1}{g{\\left(x \\right)}}} = e$"
      ],
      "text/plain": [
       "                1      \n",
       "               ────    \n",
       "               g(x)    \n",
       " lim (g(x) + 1)     = e\n",
       "x─→0⁺                  "
      ]
     },
     "execution_count": 36,
     "metadata": {},
     "output_type": "execute_result"
    }
   ],
   "source": [
    "#form an equation\n",
    "expression_zero = Eq(\n",
    "    Limit((1 + g(x))**(1/g(x)), x, 0),\n",
    "    Eulers\n",
    ")\n",
    "\n",
    "# enable unicode characters printing (simple format, nothing technical)\n",
    "init_printing()\n",
    "expression_zero"
   ]
  },
  {
   "cell_type": "code",
   "execution_count": 37,
   "id": "f310e4bf",
   "metadata": {
    "ExecuteTime": {
     "end_time": "2023-10-27T15:25:01.259425Z",
     "start_time": "2023-10-27T15:25:01.236215Z"
    }
   },
   "outputs": [],
   "source": [
    "def infinity_approaching_symbolic() -> bool:\n",
    "    \"\"\"\n",
    "    Proves the limit of the expression (1 + 1/x)^x as x approaches ∞ is equal to Euler's number 'e'.\n",
    "\n",
    "    Returns:\n",
    "        bool: True if the limit is equal to 'e', False otherwise.\n",
    "    \"\"\"\n",
    "\n",
    "    x = symbols('x')  # here, we define the variable that will be used for calculations\n",
    "    eulers_limit = Limit((1 + 1 / x) ** x, x, oo)  # define the expression, takes three parameteres:\n",
    "                                                   # Limit(expression, variable, value the limit tends to)\n",
    "    result = eulers_limit.doit().evalf()\n",
    "    # ---> doit() method automatically manipulates the expression and applies all mathematical principles needed \n",
    "    #     to perform the calculation, thus we confidentally assume that all possible inputs will be handled \n",
    "    #    correctly\n",
    "    \n",
    "    # ---> evalf() converts the symbolic value into numeric one, therefore, when the doit() has performed\n",
    "    #      its role and calculated the result (in our case for all inputs Euler's number must be obtained)\n",
    "    #      the evalf() simply converts it to the numeric value (≈ 2.718281828459045 as well-known)\n",
    "    \n",
    "    \n",
    "    # return 1) boolean value whether result (calculations performed) is equal to actual Euler's number\n",
    "    # 2) result itself (numeric value)\n",
    "    return result == e, round(result, 10)\n",
    "\n",
    "\n",
    "# as x approaches 0\n",
    "# note that zero_approaching() follows completely the same structure as infinity_approaching()\n",
    "def zero_approaching_symbolic() -> bool:\n",
    "    \"\"\"\n",
    "    Proves the limit of the expression (1 + x)^(1/x) as x approaches 0 is equal to Euler's number 'e'.\n",
    "\n",
    "    Returns:\n",
    "        bool: True if the limit is equal to 'e', False otherwise.\n",
    "    \"\"\"\n",
    "    \n",
    "    x = symbols('x')  \n",
    "    eulers_limit = Limit((1 + x) ** (1/x), x, 0) \n",
    "    result = eulers_limit.doit().evalf()\n",
    "    \n",
    "    return result == e, round(result, 10)\n",
    "\n",
    "\n",
    "\n",
    "# defined custom-exception here, nevermind, I was just testing very huge values\n",
    "class GreaterThanEulers(Exception):\n",
    "    \"\"\"\n",
    "    Custom exception class to handle values greater than Euler's number (approximately 2.71828).\n",
    "\n",
    "    This exception is raised when a value is greater than Euler's number (not the case with current distribution)\n",
    "\n",
    "    Attributes:\n",
    "        value (float): The value that triggered the exception.\n",
    "        message (str): A message describing the error, including the problematic value.\n",
    "    \"\"\"\n",
    "    def __init__(self, value):\n",
    "        self.value = value\n",
    "        self.message = f\"{value} is greater than Euler's number\"\n",
    "        super().__init__(self.message)\n",
    "        \n",
    "    \n",
    "def infinity_approaching_numeric():\n",
    "    \"\"\"\n",
    "    Shows that the limit for given values is close to Euler's number.\n",
    "\n",
    "    This function iterates through a sequence of values and calculates the limit of the\n",
    "    expression (1 + 1/value) ** value for each value. Prints the value of each calculation \n",
    "    unless the expcetion was triggered\n",
    "\n",
    "    Raises:\n",
    "        GreaterThanEulers: Custom exception raised when the limit exceeds Euler's number.\n",
    "    \"\"\"\n",
    "    \n",
    "    # generate a sequence\n",
    "    sequence = np.arange(1, 10001)\n",
    "    \n",
    "    for value in sequence:  # iterate through each value\n",
    "        # define the expression to calculate\n",
    "        expression = Limit((1 + 1 / value) ** value, value, oo)\n",
    "        # use doit() and evalf() to calculate the value\n",
    "        result = expression.doit().evalf()\n",
    "        \n",
    "        # yet in case for some values the result is bigger\n",
    "        if (result > e):\n",
    "            # therefore I decided to write a custom exception just in case\n",
    "            raise GreaterThanEulers(value)\n",
    "            \n",
    "        print(f\"For value {value} the limit is {result} (\\x1b[32mpassed\\x1b[0m)\\n\")"
   ]
  },
  {
   "cell_type": "code",
   "execution_count": 38,
   "id": "fb4493da",
   "metadata": {},
   "outputs": [
    {
     "name": "stdout",
     "output_type": "stream",
     "text": [
      "Testing symbolic:\n",
      "(True, 2.7182818285)\n",
      "(True, 2.7182818285)\n"
     ]
    }
   ],
   "source": [
    "print(f\"Testing symbolic:\\n{infinity_approaching_symbolic()}\\n{zero_approaching_symbolic()}\")"
   ]
  },
  {
   "cell_type": "code",
   "execution_count": null,
   "id": "e89121b4",
   "metadata": {},
   "outputs": [],
   "source": [
    "print(f\"Testing numeric:\\n{infinity_approaching_numeric()}\")"
   ]
  },
  {
   "cell_type": "code",
   "execution_count": 41,
   "id": "5399bc13",
   "metadata": {
    "ExecuteTime": {
     "end_time": "2023-10-27T15:25:03.628023Z",
     "start_time": "2023-10-27T15:25:03.381560Z"
    }
   },
   "outputs": [],
   "source": [
    "# This line is typically used in Jupyter Notebook to display plots inline.\n",
    "%matplotlib inline\n",
    "\n",
    "# Define a function to plot graphs\n",
    "def graph_drive(x: np.ndarray, y: np.ndarray, label: str, color: str) -> None:\n",
    "    \"\"\"\n",
    "    Plot a graph given x and y data with a specified label and color.\n",
    "\n",
    "    Parameters:\n",
    "    - x: numpy.ndarray\n",
    "        An array of x-axis data points.\n",
    "    - y: numpy.ndarray\n",
    "        An array of y-axis data points.\n",
    "    - label: str\n",
    "        A label for the graph.\n",
    "    - color: str\n",
    "        The color of the graph line.\n",
    "\n",
    "    Returns:\n",
    "    None\n",
    "    \"\"\"\n",
    "    plt.plot(x, y, label=label, color=color)\n",
    "\n",
    "# Define a function to plot multiple graphs\n",
    "def plot_graphs() -> None:\n",
    "    \"\"\"\n",
    "    Plot multiple graphs on the same set of axes and customize the plot.\n",
    "\n",
    "    Parameters:\n",
    "    None\n",
    "\n",
    "    Returns:\n",
    "    None\n",
    "    \"\"\"\n",
    "    # Create an array of x-axis values from -10 to 10\n",
    "    x = np.arange(-10, 11)\n",
    "\n",
    "    # Define symbolic variables for equations\n",
    "    x_symbol, y_symbol = symbols('x y')\n",
    "\n",
    "    # Define data and equations for four different graphs\n",
    "    y1 = x\n",
    "    equation1 = Eq(y_symbol, x_symbol)\n",
    "    equation1 = latex(equation1, mode='inline')\n",
    "\n",
    "    y2 = -x\n",
    "    equation2 = Eq(y_symbol, -x_symbol)\n",
    "    equation2 = latex(equation2, mode='inline')\n",
    "\n",
    "    y3 = x**2\n",
    "    equation3 = Eq(y_symbol, x_symbol**2)\n",
    "    equation3 = latex(equation3, mode='inline')\n",
    "\n",
    "    y4 = -(x**3)\n",
    "    equation4 = Eq(y_symbol, -(x_symbol**3))\n",
    "    equation4 = latex(equation4, mode='inline')\n",
    "\n",
    "    # Plot each graph with a specified color and label\n",
    "    graph_drive(x, y1, equation1, color='blue')\n",
    "    graph_drive(x, y2, equation2, color='green')\n",
    "    graph_drive(x, y3, equation3, color='red')\n",
    "    graph_drive(x, y4, equation4, color='yellow')\n",
    "\n",
    "    # Add labels and a legend to the plot\n",
    "    plt.xlabel('x')\n",
    "    plt.ylabel('y')\n",
    "    plt.legend()\n",
    "\n",
    "    # Adjust the y-axis and x-axis limits\n",
    "    plt.ylim(-10, 10)\n",
    "    plt.xlim(-10, 10)\n",
    "\n",
    "    # Display the plot\n",
    "    plt.show()"
   ]
  },
  {
   "cell_type": "code",
   "execution_count": 42,
   "id": "98885dd6",
   "metadata": {},
   "outputs": [
    {
     "data": {
      "image/png": "[encoded data removed]",
      "text/plain": [
       "<Figure size 640x480 with 1 Axes>"
      ]
     },
     "metadata": {},
     "output_type": "display_data"
    }
   ],
   "source": [
    "plot_graphs()"
   ]
  },
  {
   "cell_type": "code",
   "execution_count": null,
   "id": "c0bb9923",
   "metadata": {},
   "outputs": [],
   "source": []
  }
 ],
 "metadata": {
  "kernelspec": {
   "display_name": "Python 3 (ipykernel)",
   "language": "python",
   "name": "python3"
  },
  "language_info": {
   "codemirror_mode": {
    "name": "ipython",
    "version": 3
   },
   "file_extension": ".py",
   "mimetype": "text/x-python",
   "name": "python",
   "nbconvert_exporter": "python",
   "pygments_lexer": "ipython3",
   "version": "3.11.4"
  }
 },
 "nbformat": 4,
 "nbformat_minor": 5
}
